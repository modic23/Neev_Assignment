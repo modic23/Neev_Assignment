{
 "cells": [
  {
   "cell_type": "markdown",
   "metadata": {},
   "source": [
    "** Problem 1 **"
   ]
  },
  {
   "cell_type": "code",
   "execution_count": null,
   "metadata": {
    "collapsed": true
   },
   "outputs": [],
   "source": []
  },
  {
   "cell_type": "code",
   "execution_count": 128,
   "metadata": {
    "collapsed": false
   },
   "outputs": [
    {
     "name": "stdout",
     "output_type": "stream",
     "text": [
      "Enter the number of integers 4\n",
      "Number of integers n is: 4\n",
      "Enter the integer: 4\n",
      "Enter the integer: 2\n",
      "Enter the integer: 6\n",
      "Enter the integer: 8\n",
      "280\n"
     ]
    }
   ],
   "source": [
    "n = int(input(\"Enter the number of integers \"))\n",
    "print(\"Number of integers n is:\",n)\n",
    "\n",
    "if(n in range(0,501)):\n",
    "    list_of_integers = []\n",
    "    for i in range(n):\n",
    "        x = int(input(\"Enter the integer: \"))\n",
    "        list_of_integers.append(x)\n",
    "    sum = 0\n",
    "    prob1(list_of_integers,sum)\n",
    "    \n",
    "else:\n",
    "    print(\"Range out of bounds\")"
   ]
  },
  {
   "cell_type": "code",
   "execution_count": null,
   "metadata": {
    "collapsed": true
   },
   "outputs": [],
   "source": []
  },
  {
   "cell_type": "code",
   "execution_count": null,
   "metadata": {
    "collapsed": true
   },
   "outputs": [],
   "source": []
  },
  {
   "cell_type": "code",
   "execution_count": 126,
   "metadata": {
    "collapsed": true
   },
   "outputs": [],
   "source": [
    "def prob1(list,sum):\n",
    "    if(len(list)==0):\n",
    "        print(sum)\n",
    "        return(sum)\n",
    "    if(len(list)>2):     \n",
    "        list1=list[1:len(list)-1]\n",
    "        minValue = min(list1)\n",
    "        pos = list.index(minValue)\n",
    "        x = list[pos]*list[pos-1]*list[pos+1]\n",
    "        sum = sum + x\n",
    "        list.remove(minValue)\n",
    "        prob1(list,sum)\n",
    "    else:\n",
    "        product = 1\n",
    "        maxValue = max(list)\n",
    "        for x in list:\n",
    "            product *= x\n",
    "        sum = sum + product + maxValue\n",
    "        print(sum)\n",
    "        return sum"
   ]
  },
  {
   "cell_type": "code",
   "execution_count": null,
   "metadata": {
    "collapsed": true
   },
   "outputs": [],
   "source": []
  }
 ],
 "metadata": {
  "kernelspec": {
   "display_name": "Python 3",
   "language": "python",
   "name": "python3"
  },
  "language_info": {
   "codemirror_mode": {
    "name": "ipython",
    "version": 3
   },
   "file_extension": ".py",
   "mimetype": "text/x-python",
   "name": "python",
   "nbconvert_exporter": "python",
   "pygments_lexer": "ipython3",
   "version": "3.6.0"
  }
 },
 "nbformat": 4,
 "nbformat_minor": 2
}
