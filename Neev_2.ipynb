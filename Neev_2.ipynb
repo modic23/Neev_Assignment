{
 "cells": [
  {
   "cell_type": "markdown",
   "metadata": {},
   "source": [
    "** Problem 2 **"
   ]
  },
  {
   "cell_type": "code",
   "execution_count": null,
   "metadata": {
    "collapsed": false
   },
   "outputs": [],
   "source": []
  },
  {
   "cell_type": "code",
   "execution_count": 14,
   "metadata": {
    "collapsed": false
   },
   "outputs": [
    {
     "name": "stdout",
     "output_type": "stream",
     "text": [
      "Enter the number of integers5\n",
      "Number of integers n is: 5\n",
      "Enter the integer: 5\n",
      "Enter the integer: 7\n",
      "Enter the integer: 2\n",
      "Enter the integer: 12\n",
      "Enter the integer: 3\n",
      "List of integers: [5, 7, 2, 12, 3]\n",
      "----------------\n",
      "3\n"
     ]
    }
   ],
   "source": [
    "n = int(input(\"Enter the number of integers\"))\n",
    "print(\"Number of integers n is:\",n)\n",
    "\n",
    "if(n in range(1,10**4)):\n",
    "    list_of_integers = []\n",
    "    for i in range(n):\n",
    "        x = int(input(\"Enter the integer: \"))\n",
    "        list_of_integers.append(x)\n",
    "    \n",
    "    \n",
    "    #list_of_integers = [int(i) for i in input(\"Enter the integers with a space: \").split()]\n",
    "    print(\"List of integers:\",list_of_integers)\n",
    "\n",
    "    sorted_list = sorted(list_of_integers)\n",
    "    #print(sorted_list)\n",
    "    count = 0 \n",
    "    for i in sorted_list:\n",
    "        for j in sorted_list:\n",
    "            if(i<j):\n",
    "                z = i+j\n",
    "                if(z in sorted_list):\n",
    "                    count = count + 1\n",
    "                    #print(z)\n",
    "    print(\"----------------\")\n",
    "    print(count)\n",
    "else:\n",
    "    print(\"Range out of bounds\")"
   ]
  },
  {
   "cell_type": "code",
   "execution_count": null,
   "metadata": {
    "collapsed": true
   },
   "outputs": [],
   "source": []
  },
  {
   "cell_type": "code",
   "execution_count": null,
   "metadata": {
    "collapsed": true
   },
   "outputs": [],
   "source": []
  },
  {
   "cell_type": "code",
   "execution_count": null,
   "metadata": {
    "collapsed": false
   },
   "outputs": [],
   "source": []
  },
  {
   "cell_type": "code",
   "execution_count": null,
   "metadata": {
    "collapsed": true
   },
   "outputs": [],
   "source": []
  }
 ],
 "metadata": {
  "kernelspec": {
   "display_name": "Python 3",
   "language": "python",
   "name": "python3"
  },
  "language_info": {
   "codemirror_mode": {
    "name": "ipython",
    "version": 3
   },
   "file_extension": ".py",
   "mimetype": "text/x-python",
   "name": "python",
   "nbconvert_exporter": "python",
   "pygments_lexer": "ipython3",
   "version": "3.6.0"
  }
 },
 "nbformat": 4,
 "nbformat_minor": 2
}
